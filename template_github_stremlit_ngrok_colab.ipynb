{
  "nbformat": 4,
  "nbformat_minor": 0,
  "metadata": {
    "colab": {
      "provenance": [],
      "gpuType": "T4"
    },
    "kernelspec": {
      "name": "python3",
      "display_name": "Python 3"
    },
    "language_info": {
      "name": "python"
    },
    "accelerator": "GPU"
  },
  "cells": [
    {
      "cell_type": "markdown",
      "source": [
        "###【全体の説明】\n",
        "このテンプレートはgoogle colabolatory上でgithubに公開されているstremlitアプリを実行し、  \n",
        "ngrokサーバに公開することを目的としたテンプレートです。  \n",
        "設定用ファイル作成部分だけ各自の環境に合わせれば基本的な動きはできるようにしています。  \n",
        "必要に応じて修正して使用してください。\n",
        "\n",
        "###【構成】\n",
        "1. 実行用ファイル作成セクション\n",
        "    1. 設定用ファイル作成 （※パラメータ変更が必要）\n",
        "    1. git clone実行ファイル作成\n",
        "    1. パッケージインストール実行ファイル作成\n",
        "    1. stremlit実行ファイル作成\n",
        "    1. ngrok実行ファイル作成\n",
        "1. セットアップセクション\n",
        "    1. git cloneの実行\n",
        "    1. パッケージインストール\n",
        "1. 実行セクション\n",
        "    1. github登録アプリの実行\n",
        "    1. ngrokの実行\n"
      ],
      "metadata": {
        "id": "wGNsB2AaoZA8"
      }
    },
    {
      "cell_type": "markdown",
      "source": [
        "###【実行用ファイル作成セクション】\n",
        "このセクションでは実行に必要なファイルを作成します。  \n",
        "作成された実行用ファイルは後続のセクションで使用されます。  \n",
        "設定用ファイルの作成のセルで必要な情報を書き換えてください。  \n",
        "変更するのは設定用ファイル exprot の部分のみです。  \n",
        "正しい設定をすればそれぞれ4つのファイル作成処理を一度実行すればOKです。  \n",
        "設定ミス等あれば、最初から4つ実行しなおしてください。\n",
        "\n"
      ],
      "metadata": {
        "id": "vpYQaAbVsGKJ"
      }
    },
    {
      "cell_type": "code",
      "source": [
        "############################\n",
        "# 設定用ファイルの作成\n",
        "# NGROK_API_TOKEN:ngrok登録時に割り当てられるtoken\n",
        "# GITHUB_USER_URL: 例）\"http://github.com/user_name/\n",
        "# GITHUB_REPO_ROOT : 例）リポジトリがhttp://github.com/user_name/reponame/ の場合\"reponame\"\n",
        "# APP_MAIN : streamlitで動かすpyファイルのパス 例）「app.py」\n",
        "############################\n",
        "%%writefile env.sh\n",
        "export NGROK_API_TOKEN=\"XXXXXXXXXXXXXXXXXXXXXXXXXXXXXXXXXXXXXXXXXXXXXXXX\"\n",
        "export GITHUB_USER_URL=\"https://github.com/XXXXXXXX/\"\n",
        "export GITHUB_REPO_ROOT=\"XXXXXXXXX\"\n",
        "export APP_MAIN=\"XXXXXXXXX.py\"\n"
      ],
      "metadata": {
        "id": "7IDqYDVFMAry"
      },
      "execution_count": null,
      "outputs": []
    },
    {
      "cell_type": "code",
      "source": [
        "############################\n",
        "# git clone実行シェルの作成\n",
        "############################\n",
        "!cp env.sh git_clone.sh\n",
        "!echo \"rm -rf \\$GITHUB_REPO_ROOT\" >> git_clone.sh\n",
        "!echo \"git clone \\$GITHUB_USER_URL/\\$GITHUB_REPO_ROOT\" >> git_clone.sh"
      ],
      "metadata": {
        "id": "sdXVt9UU4Jab"
      },
      "execution_count": 2,
      "outputs": []
    },
    {
      "cell_type": "code",
      "source": [
        "############################\n",
        "# パッケージインストールシェルの作成\n",
        "############################\n",
        "!cp env.sh install.sh\n",
        "!echo \"pip install -r \\$GITHUB_REPO_ROOT/requirements.txt --use-deprecated=legacy-resolver\" >> install.sh\n",
        "!echo \"pip install pyngrok\" >> install.sh"
      ],
      "metadata": {
        "id": "YIsbsfu555mY"
      },
      "execution_count": 3,
      "outputs": []
    },
    {
      "cell_type": "code",
      "source": [
        "############################\n",
        "# アプリ実行シェルの作成\n",
        "############################\n",
        "!cp env.sh run_streamlit.sh\n",
        "!echo \"cd \\$GITHUB_REPO_ROOT\" >> run_streamlit.sh\n",
        "!echo \"streamlit run \\$APP_MAIN\" >> run_streamlit.sh"
      ],
      "metadata": {
        "id": "b0xebO6k66H3"
      },
      "execution_count": 4,
      "outputs": []
    },
    {
      "cell_type": "code",
      "source": [
        "############################\n",
        "# ngrok実行シェルの作成\n",
        "############################\n",
        "!cp env.sh ngrok.sh\n",
        "!echo \"ngrok authtoken \\$NGROK_API_TOKEN\" >> ngrok.sh\n"
      ],
      "metadata": {
        "id": "s4Anfv_dDrVI"
      },
      "execution_count": 5,
      "outputs": []
    },
    {
      "cell_type": "markdown",
      "source": [
        "###【セットアップセクション】\n",
        "このセクションでは実行に必要なリソース類を取得します。  \n",
        "修正箇所は特にありません。  \n"
      ],
      "metadata": {
        "id": "PF9xUiFQujEA"
      }
    },
    {
      "cell_type": "code",
      "source": [
        "############################\n",
        "# git cloneシェルの実行\n",
        "############################\n",
        "!sh git_clone.sh"
      ],
      "metadata": {
        "id": "uZ4cOP3Mz_yL"
      },
      "execution_count": null,
      "outputs": []
    },
    {
      "cell_type": "code",
      "source": [
        "############################\n",
        "# パッケージインストールシェルの実行\n",
        "############################\n",
        "!sh install.sh"
      ],
      "metadata": {
        "id": "_mN49eUXRYcX"
      },
      "execution_count": null,
      "outputs": []
    },
    {
      "cell_type": "markdown",
      "source": [
        "###【実行セクション】\n",
        "このセクションではアプリケーションを実行します。  \n",
        "修正箇所は特にありません。  \n"
      ],
      "metadata": {
        "id": "xMhcRarcN7Cw"
      }
    },
    {
      "cell_type": "code",
      "source": [
        "############################\n",
        "# streamlitの実行\n",
        "############################\n",
        "import subprocess\n",
        "subprocess.Popen([\"bash\", \"run_streamlit.sh\"])\n"
      ],
      "metadata": {
        "id": "9Ubd19oaLwP0"
      },
      "execution_count": null,
      "outputs": []
    },
    {
      "cell_type": "code",
      "source": [
        "############################\n",
        "# streamlitの起動確認\n",
        "#\n",
        "# bash run_streamlit.sh\n",
        "# /usr/bin/python3 /usr/local/bin/streamlit run st\n",
        "# の2行が出力されればサーバ起動OK。\n",
        "#\n",
        "# こんな感じ。\n",
        "# root         944     764  0 15:28 ?        00:00:00 bash run_streamlit.sh\n",
        "# root         945     944  1 15:28 ?        00:00:01 /usr/bin/python3 /usr/local/bin/streamlit run st\n",
        "############################\n",
        "!ps -ef | grep streamlit\n"
      ],
      "metadata": {
        "id": "Mg07-TucdZDg"
      },
      "execution_count": null,
      "outputs": []
    },
    {
      "cell_type": "code",
      "source": [
        "############################\n",
        "# ngrokの実行\n",
        "############################\n",
        "#出力されたURLをクリックするとngrokサーバにアクセスできます。\n",
        "#stremlitサーバが立ち上がるのに少し時間がかかる場合があります。\n",
        "#URLをクリックして接続エラーが出る場合はしばらく待って再度URLにアクセスしてみてください。\n",
        "!sh ngrok.sh\n",
        "from pyngrok import ngrok\n",
        "url = ngrok.connect(8501)\n",
        "print(url)\n"
      ],
      "metadata": {
        "id": "joJRT4vknadn"
      },
      "execution_count": null,
      "outputs": []
    }
  ]
}